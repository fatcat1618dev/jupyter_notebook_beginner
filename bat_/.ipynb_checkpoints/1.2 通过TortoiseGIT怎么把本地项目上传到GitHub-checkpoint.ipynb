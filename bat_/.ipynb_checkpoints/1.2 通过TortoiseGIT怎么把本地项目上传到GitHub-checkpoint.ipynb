{
 "cells": [
  {
   "cell_type": "markdown",
   "id": "e5f5f919",
   "metadata": {},
   "source": [
    "# <font face=\"\" color=green size=\"\">通过TortoiseGit把本地项目上传到GitHub</font>\n",
    "\n",
    "<font face=\"\" color=\"pink\" size=''>***背景：本地代码修改，无日志记录***</font>\n",
    "\n",
    "\n",
    "# 1. 创建github仓库\n",
    "\n",
    "\n",
    "* **登录**自己的github;\n",
    "* 点击右上角头像旁边的加号，选**New repository**创建仓库\n",
    "```\n",
    "    Repository name: xxx\n",
    "    Description: xxx\n",
    "    Public\n",
    "```\n",
    "\n",
    "# 2. 创建本地仓库\n",
    "\n",
    "* 自己的项目文件夹，右键```Git Create repository here```\n",
    "* 右键```TortoiseGit>>Settings```，左边栏git下Remote中，URL复制粘贴仓库对应的URL，其它默认，设置完成后点**Add New**，弹出确认框选**否**。\n",
    "\n",
    "# 3. 本地代码提交到git\n",
    "\n",
    "* 选右键菜单栏里的**Git Commit**，**填好**必要的提交信息，**选择**需要提交的文件，点击**Commit**\n",
    "```\n",
    "【提交人】fatcat\n",
    "【提交原因】将本地代码push到github\n",
    "```\n",
    "\n",
    "* 代码push到远程服务器,**Git push**"
   ]
  }
 ],
 "metadata": {
  "kernelspec": {
   "display_name": "Python 3 (ipykernel)",
   "language": "python",
   "name": "python3"
  },
  "language_info": {
   "codemirror_mode": {
    "name": "ipython",
    "version": 3
   },
   "file_extension": ".py",
   "mimetype": "text/x-python",
   "name": "python",
   "nbconvert_exporter": "python",
   "pygments_lexer": "ipython3",
   "version": "3.10.6"
  }
 },
 "nbformat": 4,
 "nbformat_minor": 5
}
