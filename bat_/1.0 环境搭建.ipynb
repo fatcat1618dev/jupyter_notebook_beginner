{
 "cells": [
  {
   "cell_type": "markdown",
   "id": "aae0fbf5",
   "metadata": {},
   "source": [
    "# 1. 环境搭建\n",
    "\n",
    "## 1.1 虚拟环境搭建\n",
    "\n",
    "```\n",
    "create -n kf jupyter notebook\n",
    "```\n",
    "   ```\n",
    "   注：创建kf名字的虚拟环境，在kf虚拟环境中安装Jupyter notebook三方库\n",
    "   \n",
    "   ```\n",
    "  \n",
    "## 1.2 查看已有环境\n",
    "\n",
    "```\n",
    "conda info -e\n",
    "```\n",
    "\n",
    "## 1.3 激活环境\n",
    "\n",
    "```\n",
    "activate kf\n",
    "```\n",
    "\n",
    "## 1.4 虚拟环境中安装自己想要的三方库\n",
    "\n",
    "```\n",
    "conda install xxx\n",
    "```\n",
    "\n",
    "## 1.5 conda搜不到的包，可用pip安装\n",
    "\n",
    "```\n",
    "python -m pip install xxx\n",
    "```\n",
    "\n",
    "## 1.6 打开jupyter notebook\n",
    "\n",
    "~~~\n",
    "jupyter notebook\n",
    "~~~"
   ]
  }
 ],
 "metadata": {
  "kernelspec": {
   "display_name": "Python 3 (ipykernel)",
   "language": "python",
   "name": "python3"
  },
  "language_info": {
   "codemirror_mode": {
    "name": "ipython",
    "version": 3
   },
   "file_extension": ".py",
   "mimetype": "text/x-python",
   "name": "python",
   "nbconvert_exporter": "python",
   "pygments_lexer": "ipython3",
   "version": "3.10.6"
  }
 },
 "nbformat": 4,
 "nbformat_minor": 5
}
