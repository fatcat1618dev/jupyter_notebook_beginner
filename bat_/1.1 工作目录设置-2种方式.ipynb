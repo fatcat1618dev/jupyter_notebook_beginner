{
 "cells": [
  {
   "cell_type": "markdown",
   "id": "91bd60ec",
   "metadata": {},
   "source": [
    "# 工作目录设置的2种方式\n",
    "\n",
    "* **配置文件**\n",
    "\n",
    "* **Win中bat**\n",
    "\n",
    "## 配置文件\n",
    "\n",
    "* 查看配置文件\n",
    "    * prompt中进入jupyter-noterbook所在的虚拟环境中\n",
    "     ```activate kf```\n",
    "    * 导出配置文件\n",
    "    ```jupyter-notebook --generate-config```\n",
    "    \n",
    "* 搜索directory定位\n",
    "    \n",
    "    ```\n",
    "    ##The directory to use for notebooks and kernels.\n",
    "    #Default: ''\n",
    "    #c.NotebookApp.notebook_dir = ''\n",
    "    ```\n",
    "    将最后一句改为```c.NotebookApp.notebook_dir =r 'E:\\09_sd\\anaconda_py'```\n",
    "        注:\n",
    "        * 1) 要取消注释，c前面的#要去掉  \n",
    "        * 2) 路径前面加r，不转义\n",
    "\n",
    "## Win中bat\n",
    "\n",
    "* bat示例\n",
    "    ```\n",
    "    @echo off\n",
    "    C:\n",
    "    cd C:\\ProgramData\\Anaconda3\\Scripts\n",
    "    call activate kf\n",
    "\n",
    "    E:\n",
    "    cd E:\\09_sd\\anaconda_py\\jupyter_notebook_beginner_tuorial\n",
    "    jupyter notebook\n",
    "    ```\n",
    "* _注_：\n",
    "    * 进入虚拟环境kf\n",
    "    * 进入工作目录，打开jupyter-notebook"
   ]
  }
 ],
 "metadata": {
  "kernelspec": {
   "display_name": "Python 3 (ipykernel)",
   "language": "python",
   "name": "python3"
  },
  "language_info": {
   "codemirror_mode": {
    "name": "ipython",
    "version": 3
   },
   "file_extension": ".py",
   "mimetype": "text/x-python",
   "name": "python",
   "nbconvert_exporter": "python",
   "pygments_lexer": "ipython3",
   "version": "3.10.6"
  }
 },
 "nbformat": 4,
 "nbformat_minor": 5
}
