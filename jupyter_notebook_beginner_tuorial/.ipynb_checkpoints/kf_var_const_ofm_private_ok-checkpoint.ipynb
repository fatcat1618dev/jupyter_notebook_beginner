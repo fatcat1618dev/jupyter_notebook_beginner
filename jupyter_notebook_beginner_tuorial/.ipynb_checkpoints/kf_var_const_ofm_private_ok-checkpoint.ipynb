{
 "cells": [
  {
   "cell_type": "code",
   "execution_count": 75,
   "id": "b16d903a",
   "metadata": {},
   "outputs": [
    {
     "name": "stderr",
     "output_type": "stream",
     "text": [
      "\u001b[1;31m鍔ㄦ€佺粨鏋勪綋寮曠敤鐨勫弬鏁扮殑璁＄畻缁撴灉蹇呴』涓烘湁鏁堝瓧娈靛悕绉般€�\n",
      "\n",
      "\u001b[0m"
     ]
    },
    {
     "ename": "Error",
     "evalue": -1,
     "output_type": "error",
     "traceback": "鍔ㄦ€佺粨鏋勪綋寮曠敤鐨勫弬鏁扮殑璁＄畻缁撴灉蹇呴』涓烘湁鏁堝瓧娈靛悕绉般€�\n"
    }
   ],
   "source": [
    "%% 变加速直线运动\n",
    "%% const ax、var ax融合——2022年11月8日\n",
    "\n",
    "%加速度a = 1+t %理论，估计值\n",
    "%初始加速度 a0 = 1\n",
    "%初速度 v0 = 1\n",
    "%初始位置 p0 = 0\n",
    "%flag = 0 未忽略高次项\n",
    "%flag = 1 忽略高次项\n",
    "%% 代码\n",
    "clc\n",
    "clear all;\n",
    "close  all;\n",
    "\n",
    "flag = 0;                 %高次项参与， 状态转移矩阵！！！\n",
    "if flag == 0\n",
    "A=[1,1,0.5;0,1,1;0,0,1];  %未忽略高次项   转移矩阵！！！\n",
    "else if flag == 1\n",
    "A=[1,1,0;0,1,1;0,0,1];    %忽略高次项\n",
    "    end\n",
    "end\n",
    "A;\n",
    "%H=[1,0,0];  %观测阵，pos\n",
    "H=[0,0,1];    %观测转移矩阵 v\n",
    "\n",
    "step=25;      %25s即可到120kph\n",
    "Voice1=normrnd(0,0.05,1,step);\n",
    "Voice2=normrnd(0,0.1,1,step);\n",
    "\n",
    "%观测值,v\n",
    "%true_x=33.3*(1.842-1.78*e.^(-0.03*(0:step-1)));\n",
    "\n",
    "%观测值\n",
    "true_var1=1.78*exp.^(-0.03*(0:step-1));\n",
    "true_var2=2.5*1.78*exp.^(-0.01*(0:step-1));  %改为exp\n",
    "%true_var2=5;\n",
    "temp_var1=true_var1+Voice1(1,:);  %观测\n",
    "temp_var2=true_var2+Voice2(1,:);  %观测"
   ]
  },
  {
   "cell_type": "code",
   "execution_count": 73,
   "id": "c5efc78c",
   "metadata": {},
   "outputs": [
    {
     "name": "stderr",
     "output_type": "stream",
     "text": [
      "\u001b[1;31m杈撳叆鍙傛暟鐨勬暟鐩笉瓒炽€�\n",
      "\n",
      "\u001b[0m"
     ]
    },
    {
     "ename": "Error",
     "evalue": -1,
     "output_type": "error",
     "traceback": "杈撳叆鍙傛暟鐨勬暟鐩笉瓒炽€�\n"
    }
   ],
   "source": [
    "\n",
    "\n",
    "\n",
    "\n",
    "position = zeros(1,step+1);   %记录数据\n",
    "speed = zeros(1,step+1);\n",
    "acc = zeros(1,step+1);\n",
    "\n",
    "Q=[0.01,0,0;0,0.01,0;0,0,0.01];  %系统噪声\n",
    "R1=[0.03];   %量测噪声\n",
    "R2=[0.1];    %量测噪声\n",
    "Pk=[1,0,0;0,1,0;0,0,1];\n",
    "x = [0 0 3]';%初始0 0 3\n",
    "\n",
    "position(1) = x(1);\n",
    "speed(1) = x(2);\n",
    "acc(1) = x(3);\n",
    "\n"
   ]
  },
  {
   "cell_type": "code",
   "execution_count": 61,
   "id": "e2e1e634",
   "metadata": {},
   "outputs": [
    {
     "name": "stderr",
     "output_type": "stream",
     "text": [
      "\u001b[1;31m鍑芥暟鎴栧彉閲� 'x' 鏃犳硶璇嗗埆銆�\n",
      "\n",
      "\u001b[0m"
     ]
    },
    {
     "ename": "Error",
     "evalue": -1,
     "output_type": "error",
     "traceback": "鍑芥暟鎴栧彉閲� 'x' 鏃犳硶璇嗗埆銆�\n"
    }
   ],
   "source": [
    "\n",
    "for i=1:step\n",
    "    if flag == 0\n",
    "    x_ = A * x + [1/6;1/2;1]; %①  %未忽略高次项\n",
    "    else if flag == 1\n",
    "    x_ = A * x + [0;0;1];     %①  %忽略高次项\n",
    "        end\n",
    "    end\n",
    "    Pk_ = A * Pk * A' + Q ;                 %②\n",
    "\n",
    "    Kk = (Pk_ * H')/(H * Pk_ * H' + R1);     %③\n",
    "    x = x_ + Kk * (temp_var1(i)-H*x_);      %④\n",
    "    Pk = (diag([1 1 1 ]) - Kk * H) * Pk_;   %⑤\n",
    "\n",
    "    x_=x;\n",
    "    Pk_=Pk;\n",
    "\n",
    "    Kk = (Pk_ * H')/(H * Pk_ * H' + R2);     %③\n",
    "    x = x_ + Kk * (temp_var2(i)-H*x_);      %④\n",
    "    Pk = (diag([1 1 1 ]) - Kk * H) * Pk_;   %⑤\n",
    "\n",
    "    position(i+1) = x(1);\n",
    "    speed(i+1) = x(2);\n",
    "    acc(i+1) = x(3);\n",
    "end"
   ]
  },
  {
   "cell_type": "code",
   "execution_count": 53,
   "id": "f8d50184",
   "metadata": {},
   "outputs": [
    {
     "name": "stderr",
     "output_type": "stream",
     "text": [
      "\u001b[1;31m鍑芥暟鎴栧彉閲� 'temp_var1' 鏃犳硶璇嗗埆銆�\n",
      "\n",
      "\u001b[0m"
     ]
    },
    {
     "data": {
      "image/png": "[encoded data removed]",
      "text/plain": [
       "<IPython.core.display.Image object>"
      ]
     },
     "metadata": {},
     "output_type": "display_data"
    },
    {
     "ename": "Error",
     "evalue": -1,
     "output_type": "error",
     "traceback": "鍑芥暟鎴栧彉閲� 'temp_var1' 鏃犳硶璇嗗埆銆�\n"
    }
   ],
   "source": [
    "\n",
    "\n",
    "%\n",
    "%% 绘图\n",
    "%figure(1)\n",
    "%plot(temp_x)  %观测位置\n",
    "%hold on\n",
    "%plot(position,'*-')    %估计位置\n",
    "%title(\"position\")\n",
    "%\n",
    "%figure(2)\n",
    "%plot(temp_x)  %观测\n",
    "%hold on\n",
    "%plot(speed,'*-')  %估计速度\n",
    "%title(\"velocity\")\n",
    "\n",
    "%figure\n",
    "%plot(Voice1,'.')\n",
    "%hold on\n",
    "%plot(Voice2,'*')\n",
    "\n",
    "figure(3)\n",
    "plot(temp_var1,'*')  %观测\n",
    "hold on\n",
    "plot(temp_var2,'.')  %观测\n",
    "hold on"
   ]
  },
  {
   "cell_type": "code",
   "execution_count": 47,
   "id": "d97512d2",
   "metadata": {},
   "outputs": [
    {
     "name": "stderr",
     "output_type": "stream",
     "text": [
      "\u001b[1;31m鍑芥暟鎴栧彉閲� 'acc' 鏃犳硶璇嗗埆銆�\n",
      "\n",
      "\u001b[0m"
     ]
    },
    {
     "ename": "Error",
     "evalue": -1,
     "output_type": "error",
     "traceback": "鍑芥暟鎴栧彉閲� 'acc' 鏃犳硶璇嗗埆銆�\n"
    }
   ],
   "source": [
    "plot(acc,'b*-') %估计加速度\n",
    "xlabel('Time (s)')\n",
    "ylabel('Accel (m/s^2)')\n",
    "legend('#1 Internal Pars','#2 Actual Test','#3 KF Ret')\n",
    "title(\"Custom ACC Based on KF Process\")\n"
   ]
  }
 ],
 "metadata": {
  "kernelspec": {
   "display_name": "Matlab",
   "language": "matlab",
   "name": "matlab"
  },
  "language_info": {
   "codemirror_mode": "octave",
   "file_extension": ".m",
   "help_links": [
    {
     "text": "MetaKernel Magics",
     "url": "https://metakernel.readthedocs.io/en/latest/source/README.html"
    }
   ],
   "mimetype": "text/x-octave",
   "name": "matlab",
   "version": "0.17.1"
  }
 },
 "nbformat": 4,
 "nbformat_minor": 5
}
