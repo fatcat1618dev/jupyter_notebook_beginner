{
 "cells": [
  {
   "cell_type": "code",
   "execution_count": 2,
   "id": "732efb61",
   "metadata": {},
   "outputs": [
    {
     "name": "stderr",
     "output_type": "stream",
     "text": [
      "\u001b[1;31m閿欒: 姝や笂涓嬫枃涓笉鏀寔鍑芥暟瀹氫箟銆傝鍦ㄤ唬鐮佹枃浠朵腑鍒涘缓鍑芥暟銆�\n",
      "\n",
      "\u001b[0m"
     ]
    },
    {
     "ename": "Error",
     "evalue": -1,
     "output_type": "error",
     "traceback": "閿欒: 姝や笂涓嬫枃涓笉鏀寔鍑芥暟瀹氫箟銆傝鍦ㄤ唬鐮佹枃浠朵腑鍒涘缓鍑芥暟銆�\n"
    }
   ],
   "source": [
    "function y=my_triangle_plot(x)\n",
    "    y=sin(x);\n",
    "    plot(x,y,'p-')\n",
    "    xlabel('X')\n",
    "    ylabel('Y')\n",
    "    title('Triangle-Func')\n",
    "    grid on"
   ]
  }
 ],
 "metadata": {
  "kernelspec": {
   "display_name": "Matlab",
   "language": "matlab",
   "name": "matlab"
  },
  "language_info": {
   "codemirror_mode": "octave",
   "file_extension": ".m",
   "help_links": [
    {
     "text": "MetaKernel Magics",
     "url": "https://metakernel.readthedocs.io/en/latest/source/README.html"
    }
   ],
   "mimetype": "text/x-octave",
   "name": "matlab",
   "version": "0.17.1"
  }
 },
 "nbformat": 4,
 "nbformat_minor": 5
}
