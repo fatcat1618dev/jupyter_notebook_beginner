{
 "cells": [
  {
   "cell_type": "markdown",
   "id": "66e366f4",
   "metadata": {},
   "source": [
    "# 这是一级标题。\n",
    "## 这是一个二级标题。\n",
    "这是一些构成段落的纯文本。\n",
    "通过 **粗体** 和 __bold__ ，或 *斜体* 和 _italic_ 添加重点。\n",
    "\n",
    "段落必须用空行隔开。\n",
    "\n",
    "* 有时我们想要包含列表。\n",
    "  * 可以缩进。\n",
    "\n",
    "1. 列表也可以编号。\n",
    "2. 有序列表。\n",
    "\n",
    "[有可能包括超链接](https://www.example.com)\n",
    "\n",
    "内联代码使用单个倒引号：`foo()`，代码块使用三个倒引号:\n",
    "\n",
    "```\n",
    "\\bar()\n",
    "\\```\n",
    "\n",
    "或可由4个空格组成：\n",
    "\n",
    "    foo()\n",
    "\n",
    "最后，添加图片也很简单：![Alt](https://www.example.com/image.jpg)\n",
    "\n",
    "`字体颜色`\n",
    "\n",
    "**<font face=\"宋体\" color=green size=''>前提：已经安装了matlab</font>**"
   ]
  }
 ],
 "metadata": {
  "kernelspec": {
   "display_name": "Python 3 (ipykernel)",
   "language": "python",
   "name": "python3"
  },
  "language_info": {
   "codemirror_mode": {
    "name": "ipython",
    "version": 3
   },
   "file_extension": ".py",
   "mimetype": "text/x-python",
   "name": "python",
   "nbconvert_exporter": "python",
   "pygments_lexer": "ipython3",
   "version": "3.10.6"
  }
 },
 "nbformat": 4,
 "nbformat_minor": 5
}
