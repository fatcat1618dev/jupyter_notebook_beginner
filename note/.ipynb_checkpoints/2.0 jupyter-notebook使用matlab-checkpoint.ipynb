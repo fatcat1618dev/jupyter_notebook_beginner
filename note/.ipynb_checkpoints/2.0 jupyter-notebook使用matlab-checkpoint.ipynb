{
 "cells": [
  {
   "cell_type": "markdown",
   "id": "2395de25",
   "metadata": {},
   "source": [
    "# Jupyter notebook使用matlab\n",
    "\n",
    "<font face=\"宋体\" color=red size=''>OSError: MATLAB Engine for Python supports Python version 2.7, 3.6, 3.7, and 3.8, but your version of Python is 3.10</font>\n",
    "\n",
    "**<font face=\"宋体\" color=green size=''>前提：已经安装了matlab</font>**\n",
    "\n",
    "# 1. 配置matlab外部python接口\n",
    "\n",
    "*约50M*\n",
    "\n",
    "* 新建环境：```conda create -n mat python==3.8```,安装jn ```conda install jupyter notebook```\n",
    "    * 未试：*```conda create -n mat python==3.8 jupyter notebook```*\n",
    "* 激活环境：prompt中激活对应虚拟环境，如**matlab**（环境为python 3.8）\n",
    "* 配置接口：找到路径```~\\matlab2020b\\extern\\engines\\python```,运行文件夹内的**setup.py**文件，或在prompt中输入命令```python setup.py install```\n",
    "\n",
    "# 2. 安装matlab_kernel\n",
    "\n",
    "* 安装kernel：```pip install matlab_kernel```\n",
    "    \n",
    "    * conda安装不成功：```conda install matlab_kernel```\n",
    "    * 依然在**mat**环境下\n",
    "\n",
    "# 3. 运行jn中的matlab\n",
    "\n",
    "* **<font face=\"宋体\" color=red size=''>报错1：AttributeError: module 'idna' has no attribute 'IDNAError'</font>**  参考https://blog.csdn.net/weixin_43370733/article/details/121907794\n",
    "\n",
    "```conda install jupyter```解决\n",
    "   \n",
    "* **<font face=\"宋体\" color=red size=''>报错2：Jupyter notebook 报错 500 : Internal Server Error</font>**  参考 https://www.jianshu.com/p/2389e80da0b1\n",
    "\n",
    "```pip install --upgrade --user nbconvert```解决\n",
    "\n",
    "运行jn就可以使用matlab了\n"
   ]
  }
 ],
 "metadata": {
  "kernelspec": {
   "display_name": "Python 3 (ipykernel)",
   "language": "python",
   "name": "python3"
  },
  "language_info": {
   "codemirror_mode": {
    "name": "ipython",
    "version": 3
   },
   "file_extension": ".py",
   "mimetype": "text/x-python",
   "name": "python",
   "nbconvert_exporter": "python",
   "pygments_lexer": "ipython3",
   "version": "3.8.0"
  }
 },
 "nbformat": 4,
 "nbformat_minor": 5
}
